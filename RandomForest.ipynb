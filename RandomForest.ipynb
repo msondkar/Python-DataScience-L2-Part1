{
  "cells": [
    {
      "metadata": {
        "trusted": true
      },
      "cell_type": "code",
      "source": "import numpy as np\nimport pandas as pd\nimport matplotlib.pyplot as plt\nimport seaborn as sns\n\nfrom sklearn.model_selection import train_test_split\nfrom sklearn.tree import DecisionTreeClassifier\nfrom sklearn.ensemble import RandomForestClassifier\nfrom sklearn.metrics import accuracy_score\nfrom sklearn.metrics import classification_report\n\nimport warnings\nwarnings.filterwarnings(\"ignore\")\n\n%matplotlib inline\nsns.set()",
      "execution_count": 2,
      "outputs": []
    },
    {
      "metadata": {
        "trusted": true
      },
      "cell_type": "code",
      "source": "# read in the data\ncensus_df = pd.read_csv('data/Census_test.csv')",
      "execution_count": 3,
      "outputs": []
    },
    {
      "metadata": {
        "trusted": true
      },
      "cell_type": "code",
      "source": "# get the first 5 rows\ncensus_df.head()",
      "execution_count": 4,
      "outputs": [
        {
          "output_type": "execute_result",
          "execution_count": 4,
          "data": {
            "text/html": "<div>\n<style scoped>\n    .dataframe tbody tr th:only-of-type {\n        vertical-align: middle;\n    }\n\n    .dataframe tbody tr th {\n        vertical-align: top;\n    }\n\n    .dataframe thead th {\n        text-align: right;\n    }\n</style>\n<table border=\"1\" class=\"dataframe\">\n  <thead>\n    <tr style=\"text-align: right;\">\n      <th></th>\n      <th>age</th>\n      <th>workclass</th>\n      <th>education</th>\n      <th>education_num</th>\n      <th>marital_status</th>\n      <th>occupation</th>\n      <th>relationship</th>\n      <th>race</th>\n      <th>gender</th>\n      <th>hours_per_week</th>\n      <th>native_country</th>\n      <th>greater_than_50k</th>\n    </tr>\n  </thead>\n  <tbody>\n    <tr>\n      <th>0</th>\n      <td>25</td>\n      <td>Private</td>\n      <td>11th</td>\n      <td>7</td>\n      <td>Never-married</td>\n      <td>Machine-op-inspct</td>\n      <td>Own-child</td>\n      <td>Black</td>\n      <td>Male</td>\n      <td>40</td>\n      <td>United-States</td>\n      <td>0</td>\n    </tr>\n    <tr>\n      <th>1</th>\n      <td>38</td>\n      <td>Private</td>\n      <td>HS-grad</td>\n      <td>9</td>\n      <td>Married-civ-spouse</td>\n      <td>Farming-fishing</td>\n      <td>Husband</td>\n      <td>White</td>\n      <td>Male</td>\n      <td>50</td>\n      <td>United-States</td>\n      <td>0</td>\n    </tr>\n    <tr>\n      <th>2</th>\n      <td>28</td>\n      <td>Local-gov</td>\n      <td>Assoc-acdm</td>\n      <td>12</td>\n      <td>Married-civ-spouse</td>\n      <td>Protective-serv</td>\n      <td>Husband</td>\n      <td>White</td>\n      <td>Male</td>\n      <td>40</td>\n      <td>United-States</td>\n      <td>1</td>\n    </tr>\n    <tr>\n      <th>3</th>\n      <td>44</td>\n      <td>Private</td>\n      <td>Some-college</td>\n      <td>10</td>\n      <td>Married-civ-spouse</td>\n      <td>Machine-op-inspct</td>\n      <td>Husband</td>\n      <td>Black</td>\n      <td>Male</td>\n      <td>40</td>\n      <td>United-States</td>\n      <td>1</td>\n    </tr>\n    <tr>\n      <th>4</th>\n      <td>18</td>\n      <td>NaN</td>\n      <td>Some-college</td>\n      <td>10</td>\n      <td>Never-married</td>\n      <td>NaN</td>\n      <td>Own-child</td>\n      <td>White</td>\n      <td>Female</td>\n      <td>30</td>\n      <td>United-States</td>\n      <td>0</td>\n    </tr>\n  </tbody>\n</table>\n</div>",
            "text/plain": "   age  workclass     education  education_num      marital_status  \\\n0   25    Private          11th              7       Never-married   \n1   38    Private       HS-grad              9  Married-civ-spouse   \n2   28  Local-gov    Assoc-acdm             12  Married-civ-spouse   \n3   44    Private  Some-college             10  Married-civ-spouse   \n4   18        NaN  Some-college             10       Never-married   \n\n          occupation relationship   race  gender  hours_per_week  \\\n0  Machine-op-inspct    Own-child  Black    Male              40   \n1    Farming-fishing      Husband  White    Male              50   \n2    Protective-serv      Husband  White    Male              40   \n3  Machine-op-inspct      Husband  Black    Male              40   \n4                NaN    Own-child  White  Female              30   \n\n  native_country  greater_than_50k  \n0  United-States                 0  \n1  United-States                 0  \n2  United-States                 1  \n3  United-States                 1  \n4  United-States                 0  "
          },
          "metadata": {}
        }
      ]
    },
    {
      "metadata": {
        "trusted": true
      },
      "cell_type": "code",
      "source": "# return the data type of each column\ncensus_df.dtypes",
      "execution_count": 5,
      "outputs": [
        {
          "output_type": "execute_result",
          "execution_count": 5,
          "data": {
            "text/plain": "age                  int64\nworkclass           object\neducation           object\neducation_num        int64\nmarital_status      object\noccupation          object\nrelationship        object\nrace                object\ngender              object\nhours_per_week       int64\nnative_country      object\ngreater_than_50k     int64\ndtype: object"
          },
          "metadata": {}
        }
      ]
    },
    {
      "metadata": {
        "trusted": true
      },
      "cell_type": "code",
      "source": "# any missing or null values?\ncensus_df.isnull().sum()",
      "execution_count": 6,
      "outputs": [
        {
          "output_type": "execute_result",
          "execution_count": 6,
          "data": {
            "text/plain": "age                   0\nworkclass           963\neducation             0\neducation_num         0\nmarital_status        0\noccupation          966\nrelationship          0\nrace                  0\ngender                0\nhours_per_week        0\nnative_country      274\ngreater_than_50k      0\ndtype: int64"
          },
          "metadata": {}
        }
      ]
    },
    {
      "metadata": {
        "trusted": true
      },
      "cell_type": "code",
      "source": "# Remove rows with missing values. Not recommended! Best option is to impute missing with mean, mode or median.\ncensus_df = census_df.dropna()",
      "execution_count": 7,
      "outputs": []
    },
    {
      "metadata": {
        "trusted": true
      },
      "cell_type": "code",
      "source": "# Imbalanced class distribution?\nfig, ax = plt.subplots(1, 1, figsize=(5,4))\n\nsns.countplot(census_df.greater_than_50k, ax=ax)\nax.set_xlabel('Income Greater than 50K?')\nax.set_xticks(range(2))\nax.set_xticklabels(['No', 'Yes'])",
      "execution_count": 8,
      "outputs": [
        {
          "output_type": "execute_result",
          "execution_count": 8,
          "data": {
            "text/plain": "[Text(0, 0, 'No'), Text(0, 0, 'Yes')]"
          },
          "metadata": {}
        },
        {
          "output_type": "display_data",
          "data": {
            "image/png": "[encoded data removed]",
            "text/plain": "<Figure size 360x288 with 1 Axes>"
          },
          "metadata": {}
        }
      ]
    },
    {
      "metadata": {
        "trusted": true
      },
      "cell_type": "code",
      "source": "# Impact of age and hourse per week on income\n\nincome_less_50k = census_df[census_df.greater_than_50k==0]\nincome_greater_50k = census_df[census_df.greater_than_50k==1]\n\nfig, (ax1, ax2) = plt.subplots(1, 2, figsize=(14,6))\n\nax1.hist(income_less_50k['age'], alpha=0.7, label='income < 50k')\nax1.hist(income_greater_50k['age'], alpha=0.7, label='income > 50k')\nax1.set_xlabel('Age', fontsize=14)\nax1.legend(loc='best', fontsize=12)\n\nax2.hist(income_less_50k['hours_per_week'], alpha=0.7, label='income < 50k')\nax2.hist(income_greater_50k['hours_per_week'], alpha=0.7, label='income > 50k')\nax2.set_xlabel('Hours Per Week', fontsize=14)\nax2.legend(loc='best', fontsize=12)\n\nplt.show()",
      "execution_count": 9,
      "outputs": [
        {
          "output_type": "display_data",
          "data": {
            "image/png": "[encoded data removed]",
            "text/plain": "<Figure size 1008x432 with 2 Axes>"
          },
          "metadata": {}
        }
      ]
    },
    {
      "metadata": {
        "trusted": true
      },
      "cell_type": "code",
      "source": "# set predictors\nX = census_df.drop(['greater_than_50k'], axis=1)\n# set target\ny = census_df['greater_than_50k']\n\n# Convert categorical variable into dummy/indicator variables\nX_encoded = pd.get_dummies(X)",
      "execution_count": 10,
      "outputs": []
    },
    {
      "metadata": {
        "trusted": true
      },
      "cell_type": "code",
      "source": "# Split data into train and test subsets. Data is split in a stratified fashion using target label\nX_train, X_test, y_train, y_test = train_test_split(X_encoded, y, test_size=0.2, stratify=y, random_state=42)\n\nprint(\"X_train shape :\", X_train.shape)\nprint(\"X_test shape :\", X_test.shape)",
      "execution_count": 11,
      "outputs": [
        {
          "output_type": "stream",
          "text": "X_train shape : (12048, 100)\nX_test shape : (3012, 100)\n",
          "name": "stdout"
        }
      ]
    },
    {
      "metadata": {},
      "cell_type": "markdown",
      "source": "### Decision Tree"
    },
    {
      "metadata": {
        "trusted": true
      },
      "cell_type": "code",
      "source": "# Define decision tree classifier\ndtree = DecisionTreeClassifier(random_state=0)\n# Build a classifier from the training set\ndtree.fit(X_train, y_train)\n# Make prediction on the testing set\ny_pred = dtree.predict(X_test)\n# print accuracy\nprint(\"Decision Tree Classifier Accuracy : {:.2f}%\".format(accuracy_score(y_test, y_pred)*100))",
      "execution_count": 12,
      "outputs": [
        {
          "output_type": "stream",
          "text": "Decision Tree Classifier Accuracy : 76.46%\n",
          "name": "stdout"
        }
      ]
    },
    {
      "metadata": {
        "trusted": true
      },
      "cell_type": "code",
      "source": "target_names = ['Income < 50k', 'Income > 50k']\nprint(\"\\tDecision Tree Classification Report\\n\")\nprint(classification_report(y_test, y_pred, target_names=target_names))",
      "execution_count": 13,
      "outputs": [
        {
          "output_type": "stream",
          "text": "\tDecision Tree Classification Report\n\n              precision    recall  f1-score   support\n\nIncome < 50k       0.84      0.85      0.85      2272\nIncome > 50k       0.52      0.49      0.51       740\n\n   micro avg       0.76      0.76      0.76      3012\n   macro avg       0.68      0.67      0.68      3012\nweighted avg       0.76      0.76      0.76      3012\n\n",
          "name": "stdout"
        }
      ]
    },
    {
      "metadata": {},
      "cell_type": "markdown",
      "source": "### Random Forest"
    },
    {
      "metadata": {
        "trusted": true
      },
      "cell_type": "code",
      "source": "# Define Random Forest classifier\nrftree = RandomForestClassifier(random_state=0)\n# Build a classifier from the training set\nrftree.fit(X_train, y_train)\n# Make prediction on the testing set\ny_pred = rftree.predict(X_test)\n# print accuracy\nprint(\"Random Forest Classifier Accuracy : {:.2f}%\".format(accuracy_score(y_test, y_pred)*100))",
      "execution_count": 14,
      "outputs": [
        {
          "output_type": "stream",
          "text": "Random Forest Classifier Accuracy : 79.32%\n",
          "name": "stdout"
        }
      ]
    },
    {
      "metadata": {
        "trusted": true
      },
      "cell_type": "code",
      "source": "print(\"\\tRandom Forest Classification Report\\n\")\nprint(classification_report(y_test, y_pred, target_names=target_names))",
      "execution_count": 15,
      "outputs": [
        {
          "output_type": "stream",
          "text": "\tRandom Forest Classification Report\n\n              precision    recall  f1-score   support\n\nIncome < 50k       0.84      0.89      0.87      2272\nIncome > 50k       0.60      0.48      0.53       740\n\n   micro avg       0.79      0.79      0.79      3012\n   macro avg       0.72      0.69      0.70      3012\nweighted avg       0.78      0.79      0.79      3012\n\n",
          "name": "stdout"
        }
      ]
    }
  ],
  "metadata": {
    "kernelspec": {
      "name": "python36",
      "display_name": "Python 3.6",
      "language": "python"
    },
    "language_info": {
      "mimetype": "text/x-python",
      "nbconvert_exporter": "python",
      "name": "python",
      "pygments_lexer": "ipython3",
      "version": "3.6.6",
      "file_extension": ".py",
      "codemirror_mode": {
        "version": 3,
        "name": "ipython"
      }
    }
  },
  "nbformat": 4,
  "nbformat_minor": 2
}